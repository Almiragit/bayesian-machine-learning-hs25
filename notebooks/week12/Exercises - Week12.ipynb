{
 "cells": [
  {
   "cell_type": "markdown",
   "id": "f2a808a9",
   "metadata": {},
   "source": [
    "# Exercises Week 12: Bayesian Network and Causal Inference "
   ]
  },
  {
   "cell_type": "markdown",
   "id": "0f272ee1-c638-4cdd-90ab-21f2fdb8efa8",
   "metadata": {},
   "source": [
    "### Learning Goals:\n",
    "\n",
    "After completing this lab exercise, you should be able to:\n",
    "\n",
    "- verify Backdoor criterion to a Causal Bayesian Network\n",
    "- analyze a Bayesian Network that exhibits Simpson's Paradox. \n",
    "\n",
    "**Note:** Tasks 1 and 2 can be solved with `pgmpy`.\n",
    "\n",
    "This assignment consists of 2 tasks."
   ]
  },
  {
   "cell_type": "markdown",
   "id": "df5dbb00-8eaf-470a-8c79-165cdb5f1c64",
   "metadata": {},
   "source": [
    "## Task 1 - Backdoor Criterion - Causal Games"
   ]
  },
  {
   "cell_type": "markdown",
   "id": "d61ad4fa-5b28-4a95-8d8b-44e2975b8c67",
   "metadata": {},
   "source": [
    "Please go through all 5 games of the notebook `Backdoor Criterion - Causal Gamees.ipynb`, decide for each game whether there is a back-door path and which variables are confounders. Determine the deconfounder(s) which need to be controlled for. "
   ]
  },
  {
   "cell_type": "markdown",
   "id": "eb72ccd0",
   "metadata": {},
   "source": [
    "## Task 2 - Simpson's paradox"
   ]
  },
  {
   "cell_type": "markdown",
   "id": "a483e70d-13bb-4183-878d-de24f5aac1dd",
   "metadata": {},
   "source": [
    "Imagine a doctor - Dr. Simpson, we'll call him - reading in his office about a promising new drug (Drug $D$) that seems to reduce the risk of a heart attack. Excitedly, he looks up the researcher's data online. His excitment cools a little when he looks at the data on male patients and notices that their risk of a heart attack is actually higher if they take Drug  $D$. \"Oh well, he says, \"Drug $D$ must be very effective for women.\" But then he turns to the next table, and his disappointment turns to bafflement. \"What is this?\" Dr. Simpson exclaims. \"It says here that women who took Drug $D$ were also at higher risk of a heart attack. I must be losing my marbles! This drug seems to be bad for women, bad for men, but good for people.\""
   ]
  },
  {
   "cell_type": "markdown",
   "id": "176a3f4e-044d-4e4c-adaf-b9a234d00a81",
   "metadata": {},
   "source": [
    "| Gender | Control Group (No Drug) | Treatment Group (Took Drug) |\n",
    "|--------|--------------------------|-----------------------------|\n",
    "|        | Heart Attack | No Heart Attack | Heart Attack | No Heart Attack |\n",
    "| Female |      1       |       28        |      3       |       37        |\n",
    "| Male   |     12       |       28        |      8       |       12        |\n",
    "| Total  |     13       |       47        |     11       |       49        |\n"
   ]
  },
  {
   "cell_type": "markdown",
   "id": "ee76ca71-240c-4237-ada8-17f549a45aef",
   "metadata": {},
   "source": [
    "**Task2a** Emphasize where the paradox is. "
   ]
  },
  {
   "cell_type": "markdown",
   "id": "8b4d3179-734e-45af-8e76-16cb83c937b6",
   "metadata": {},
   "source": [
    "<< Your Answer here! >>"
   ]
  },
  {
   "cell_type": "markdown",
   "id": "5e182378-95a0-4b2b-bd57-a65395127491",
   "metadata": {},
   "source": [
    "**Task 2b** To understand the paradoxon, we must look beyond the data to the data-generating process. Discuss the paradoxon with a causal diagram."
   ]
  },
  {
   "cell_type": "markdown",
   "id": "ae5e7e98",
   "metadata": {
    "jp-MarkdownHeadingCollapsed": true,
    "tags": []
   },
   "source": [
    "The provided Bayesian Network models three variables:\n",
    "- \\( G \\): Gender (`m` or `f`)\n",
    "- \\( D \\): Drug (`0` or `1`)\n",
    "- \\( H \\): Heart Attack (`0` or `1`)\n",
    "\n",
    "The relationships are defined as:\n",
    "- $ G \\rightarrow D \\rightarrow H$\n",
    "- $ G \\rightarrow H $"
   ]
  },
  {
   "cell_type": "markdown",
   "id": "098cb269-4c47-4363-a111-153942e94ec2",
   "metadata": {},
   "source": [
    "<< Your answer here!>>"
   ]
  },
  {
   "cell_type": "markdown",
   "id": "5257f33f-75fc-4b5a-87d5-5e3d6560eeb1",
   "metadata": {},
   "source": [
    "**Task 2c** Construct the Bayesian Network by means of `pgmpy`."
   ]
  },
  {
   "cell_type": "code",
   "execution_count": 1,
   "id": "20fbce7e",
   "metadata": {
    "tags": []
   },
   "outputs": [
    {
     "name": "stdout",
     "output_type": "stream",
     "text": [
      "Collecting daft\n",
      "  Downloading daft-0.1.2-py3-none-any.whl.metadata (1.4 kB)\n",
      "Requirement already satisfied: matplotlib in /opt/conda/lib/python3.10/site-packages (from daft) (3.9.1.post1)\n",
      "Requirement already satisfied: numpy in /opt/conda/lib/python3.10/site-packages (from daft) (1.26.4)\n",
      "Requirement already satisfied: setuptools in /opt/conda/lib/python3.10/site-packages (from daft) (67.7.2)\n",
      "Requirement already satisfied: contourpy>=1.0.1 in /opt/conda/lib/python3.10/site-packages (from matplotlib->daft) (1.2.1)\n",
      "Requirement already satisfied: cycler>=0.10 in /opt/conda/lib/python3.10/site-packages (from matplotlib->daft) (0.12.1)\n",
      "Requirement already satisfied: fonttools>=4.22.0 in /opt/conda/lib/python3.10/site-packages (from matplotlib->daft) (4.55.2)\n",
      "Requirement already satisfied: kiwisolver>=1.3.1 in /opt/conda/lib/python3.10/site-packages (from matplotlib->daft) (1.4.7)\n",
      "Requirement already satisfied: packaging>=20.0 in /opt/conda/lib/python3.10/site-packages (from matplotlib->daft) (24.2)\n",
      "Requirement already satisfied: pillow>=8 in /opt/conda/lib/python3.10/site-packages (from matplotlib->daft) (8.3.2)\n",
      "Requirement already satisfied: pyparsing>=2.3.1 in /opt/conda/lib/python3.10/site-packages (from matplotlib->daft) (3.2.0)\n",
      "Requirement already satisfied: python-dateutil>=2.7 in /opt/conda/lib/python3.10/site-packages (from matplotlib->daft) (2.8.2)\n",
      "Requirement already satisfied: six>=1.5 in /opt/conda/lib/python3.10/site-packages (from python-dateutil>=2.7->matplotlib->daft) (1.16.0)\n",
      "Downloading daft-0.1.2-py3-none-any.whl (11 kB)\n",
      "Installing collected packages: daft\n",
      "Successfully installed daft-0.1.2\n"
     ]
    },
    {
     "name": "stderr",
     "output_type": "stream",
     "text": [
      "INFO:matplotlib.font_manager:generated new fontManager\n"
     ]
    },
    {
     "data": {
      "text/plain": [
       "<Axes: >"
      ]
     },
     "execution_count": 1,
     "metadata": {},
     "output_type": "execute_result"
    },
    {
     "data": {
      "image/png": "[encoded data removed]",
      "text/plain": [
       "<Figure size 212.598x133.858 with 1 Axes>"
      ]
     },
     "metadata": {},
     "output_type": "display_data"
    }
   ],
   "source": [
    "!pip install daft\n",
    "from pgmpy.models import BayesianNetwork\n",
    "from pgmpy.inference import VariableElimination\n",
    "from pgmpy.factors.discrete import TabularCPD\n",
    "from pgmpy.inference import CausalInference\n",
    "simp_model = BayesianNetwork([(\"G\", \"D\"), (\"D\", \"H\"), (\"G\", \"H\")])\n",
    "simp_model.to_daft(node_pos={\"D\": (0, 0), \"H\": (2, 0), \"G\": (1, 1)}).render()"
   ]
  },
  {
   "cell_type": "code",
   "execution_count": 4,
   "id": "0f3d089a",
   "metadata": {
    "tags": []
   },
   "outputs": [],
   "source": [
    "cpd_s = TabularCPD(\n",
    "    << your code here >>\n",
    ")\n",
    "cpd_t = TabularCPD(\n",
    "    << your code here >>\n",
    ")\n",
    "cpd_c = TabularCPD(\n",
    "    << your code here >>\n",
    ")\n",
    "\n",
    "simp_model.add_cpds(cpd_s, cpd_t, cpd_c)"
   ]
  },
  {
   "cell_type": "markdown",
   "id": "84d92614",
   "metadata": {},
   "source": [
    "**Task 2d** Compute the probability for a heart attack $H=1$ given treatment with drug by means of `pgmpy`."
   ]
  },
  {
   "cell_type": "code",
   "execution_count": null,
   "id": "777600b2-004d-4dde-9ccf-06b815d45d6a",
   "metadata": {
    "tags": []
   },
   "outputs": [],
   "source": [
    "# Non adjusted inference\n",
    "infer_non_adjust = VariableElimination(simp_model)\n",
    "print(infer_non_adjust.query(<< your code >>)\n",
    "print(infer_non_adjust.query(<< your code >>)"
   ]
  },
  {
   "cell_type": "markdown",
   "id": "af285fcc",
   "metadata": {},
   "source": [
    "**Task 2e** Compute the probability for a heart attack $H=1$ given treatment with do(drug) by means of `pgmpy`."
   ]
  },
  {
   "cell_type": "code",
   "execution_count": null,
   "id": "7baa6a92-e33e-4b16-a7c8-9fda4955bf10",
   "metadata": {
    "tags": []
   },
   "outputs": [],
   "source": [
    "infer_adjusted = CausalInference(simp_model)\n",
    "print(infer_adjusted.query(<< your code >>)\n",
    "print(infer_adjusted.query(<< your code >>)"
   ]
  },
  {
   "cell_type": "markdown",
   "id": "e40cb0a2-8537-49bc-aa1d-d022cbb8486d",
   "metadata": {},
   "source": [
    "**Task 2d** Compare and interpret the results of \\( P(H | \n",
    "D= 1) \\) and \\( P(H | do(D = 1)) \\). Discuss the importance of causal inference techniques in resolving paradoxes like Simpson's."
   ]
  }
 ],
 "metadata": {
  "kernelspec": {
   "display_name": "Python 3 (ipykernel)",
   "language": "python",
   "name": "python3"
  },
  "language_info": {
   "codemirror_mode": {
    "name": "ipython",
    "version": 3
   },
   "file_extension": ".py",
   "mimetype": "text/x-python",
   "name": "python",
   "nbconvert_exporter": "python",
   "pygments_lexer": "ipython3",
   "version": "3.10.11"
  }
 },
 "nbformat": 4,
 "nbformat_minor": 5
}
