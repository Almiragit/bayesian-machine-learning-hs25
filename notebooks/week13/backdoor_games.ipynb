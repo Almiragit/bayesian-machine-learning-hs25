{
  "cells": [
    {
      "cell_type": "markdown",
      "metadata": {
        "id": "view-in-github"
      },
      "source": [
        "<a href=\"https://colab.research.google.com/github/mrklees/pgmpy/blob/feature%2Fcausalmodel/examples/Causal_Games.ipynb\" target=\"_parent\"><img src=\"https://colab.research.google.com/assets/colab-badge.svg\" alt=\"Open In Colab\"/></a>"
      ]
    },
    {
      "cell_type": "markdown",
      "metadata": {
        "id": "qR-vG2CF4jaz"
      },
      "source": [
        "# Backdoor Paths - Causal Games\n",
        "\n",
        "\n",
        "This particular notebook walks through the 5 games that used as examples for building intuition about backdoor paths in *The Book of Why* by Judea Peal. They should help to develop some useful intuitions about backdoor paths.\n",
        "\n",
        "## Objective of the Games\n",
        "\n",
        "For each game we get a causal graph, and our goal is to identify the set of deconfounders (often denoted $Z$) which will close all backdoor paths from nodes $X$ to $Y$."
      ]
    },
    {
      "cell_type": "code",
      "execution_count": 7,
      "metadata": {
        "id": "qnGapiF4x0_e"
      },
      "outputs": [],
      "source": [
        "import sys\n",
        "import matplotlib.pyplot as plt\n",
        "\n",
        "%matplotlib inline\n",
        "import daft\n",
        "from daft import PGM\n",
        "\n",
        "# We can now import the development version of pgmpy\n",
        "from pgmpy.models import DiscreteBayesianNetwork\n",
        "from pgmpy.inference.CausalInference import CausalInference\n",
        "\n",
        "\n",
        "def convert_pgm_to_pgmpy(pgm):\n",
        "    \"\"\"Takes a Daft PGM object and converts it to a pgmpy DiscreteBayesianNetwork\"\"\"\n",
        "    edges = [(edge.node1.name, edge.node2.name) for edge in pgm._edges]\n",
        "    model = DiscreteBayesianNetwork(edges)\n",
        "    return model"
      ]
    },
    {
      "cell_type": "markdown",
      "metadata": {
        "id": "jPjm-G82x0_g"
      },
      "source": [
        "## Game 1"
      ]
    },
    {
      "cell_type": "code",
      "execution_count": 4,
      "metadata": {
        "colab": {
          "base_uri": "https://localhost:8080/",
          "height": 273
        },
        "id": "P90trQAQ7Clc",
        "outputId": "7f782f77-1f81-4793-e001-e3cd19bc8639",
        "tags": []
      },
      "outputs": [
        {
          "output_type": "display_data",
          "data": {
            "text/plain": [
              "<Figure size 314.961x236.22 with 1 Axes>"
            ],
            "image/png": "[encoded data removed]"
          },
          "metadata": {}
        }
      ],
      "source": [
        "# @markdown While this is a \"trivial\" example, many statisticians would consider including either or both A and B in their models \"just for good measure\".  Notice though how controlling for A would close off the path of causal information from X to Y, actually *impeding* your effort to measure that effect.\n",
        "pgm = daft.PGM(shape=[4, 3])\n",
        "\n",
        "pgm.add_node(daft.Node(\"X\", r\"X\", 1, 2))\n",
        "pgm.add_node(daft.Node(\"Y\", r\"Y\", 3, 2))\n",
        "pgm.add_node(daft.Node(\"A\", r\"A\", 2, 2))\n",
        "pgm.add_node(daft.Node(\"B\", r\"B\", 2, 1))\n",
        "\n",
        "\n",
        "pgm.add_edge(\"X\", \"A\")\n",
        "pgm.add_edge(\"A\", \"Y\")\n",
        "pgm.add_edge(\"A\", \"B\")\n",
        "\n",
        "pgm.render()\n",
        "plt.show()"
      ]
    },
    {
      "cell_type": "code",
      "execution_count": 5,
      "metadata": {
        "colab": {
          "base_uri": "https://localhost:8080/",
          "height": 351
        },
        "id": "b5RJ0UsH_kQ4",
        "outputId": "d8633c19-b42a-44e8-ec14-6ad499032c85",
        "tags": []
      },
      "outputs": [
        {
          "output_type": "display_data",
          "data": {
            "text/plain": [
              "<Figure size 314.961x314.961 with 1 Axes>"
            ],
            "image/png": "[encoded data removed]"
          },
          "metadata": {}
        }
      ],
      "source": [
        "# @title # Game 2\n",
        "# @markdown This graph looks harder, but actualy is also trivial to solve.  The key is noticing the one backdoor path, which goes from X <- A -> B <- D -> E -> Y, has a collider at B (or a 'V structure'), and therefore the backdoor path is closed.\n",
        "pgm = PGM(shape=[4, 4])\n",
        "\n",
        "pgm.add_node(daft.Node(\"X\", r\"X\", 1, 1))\n",
        "pgm.add_node(daft.Node(\"Y\", r\"Y\", 3, 1))\n",
        "pgm.add_node(daft.Node(\"A\", r\"A\", 1, 3))\n",
        "pgm.add_node(daft.Node(\"B\", r\"B\", 2, 3))\n",
        "pgm.add_node(daft.Node(\"C\", r\"C\", 3, 3))\n",
        "pgm.add_node(daft.Node(\"D\", r\"D\", 2, 2))\n",
        "pgm.add_node(daft.Node(\"E\", r\"E\", 2, 1))\n",
        "\n",
        "\n",
        "pgm.add_edge(\"X\", \"E\")\n",
        "pgm.add_edge(\"A\", \"X\")\n",
        "pgm.add_edge(\"A\", \"B\")\n",
        "pgm.add_edge(\"B\", \"C\")\n",
        "pgm.add_edge(\"D\", \"B\")\n",
        "pgm.add_edge(\"D\", \"E\")\n",
        "pgm.add_edge(\"E\", \"Y\")\n",
        "\n",
        "pgm.render()\n",
        "plt.show()"
      ]
    },
    {
      "cell_type": "code",
      "execution_count": 8,
      "metadata": {
        "colab": {
          "base_uri": "https://localhost:8080/"
        },
        "id": "2d6Ezs6PDDON",
        "outputId": "ff769f70-a3be-4d3b-ff71-17509f299591",
        "scrolled": true,
        "tags": []
      },
      "outputs": [
        {
          "output_type": "stream",
          "name": "stdout",
          "text": [
            "Are there are active backdoor paths? False\n",
            "If so, what's the possible backdoor adjustment sets? frozenset()\n"
          ]
        }
      ],
      "source": [
        "graph = convert_pgm_to_pgmpy(pgm)\n",
        "inference = CausalInference(graph)\n",
        "print(\n",
        "    f\"Are there are active backdoor paths? {not inference.is_valid_backdoor_adjustment_set('X', 'Y')}\"\n",
        ")\n",
        "adj_sets = inference.get_all_backdoor_adjustment_sets(\"X\", \"Y\")\n",
        "print(f\"If so, what's the possible backdoor adjustment sets? {adj_sets}\")"
      ]
    },
    {
      "cell_type": "markdown",
      "metadata": {
        "id": "IQImWrJGx0_h"
      },
      "source": [
        "### Game 3"
      ]
    },
    {
      "cell_type": "code",
      "execution_count": 9,
      "metadata": {
        "cellView": "form",
        "colab": {
          "base_uri": "https://localhost:8080/",
          "height": 351
        },
        "id": "Pg6T2WA3DZ8n",
        "outputId": "1276d593-809d-4d2b-a1da-27b8b6daa9f3",
        "tags": []
      },
      "outputs": [
        {
          "output_type": "display_data",
          "data": {
            "text/plain": [
              "<Figure size 314.961x314.961 with 1 Axes>"
            ],
            "image/png": "[encoded data removed]"
          },
          "metadata": {}
        }
      ],
      "source": [
        "# @markdown This game actually requires some action.  Notice the backdoor path X <- B -> Y.  This is a confounding pattern, is one of the clearest signs that we'll need to control for something, in this case B.\n",
        "pgm = PGM(shape=[4, 4])\n",
        "\n",
        "pgm.add_node(daft.Node(\"X\", r\"X\", 1, 1))\n",
        "pgm.add_node(daft.Node(\"Y\", r\"Y\", 3, 1))\n",
        "pgm.add_node(daft.Node(\"A\", r\"A\", 2, 1.75))\n",
        "pgm.add_node(daft.Node(\"B\", r\"B\", 2, 3))\n",
        "\n",
        "\n",
        "pgm.add_edge(\"X\", \"Y\")\n",
        "pgm.add_edge(\"X\", \"A\")\n",
        "pgm.add_edge(\"B\", \"A\")\n",
        "pgm.add_edge(\"B\", \"X\")\n",
        "pgm.add_edge(\"B\", \"Y\")\n",
        "\n",
        "pgm.render()\n",
        "plt.show()"
      ]
    },
    {
      "cell_type": "code",
      "execution_count": 10,
      "metadata": {
        "colab": {
          "base_uri": "https://localhost:8080/"
        },
        "id": "l0GI2mM3WQeI",
        "outputId": "ecdc2639-c14c-4863-e440-fe4f7b6f31ee",
        "scrolled": true,
        "tags": []
      },
      "outputs": [
        {
          "output_type": "stream",
          "name": "stdout",
          "text": [
            "Are there are active backdoor paths? True\n",
            "If so, what's the possible backdoor adjustment sets? frozenset({frozenset({'B'})})\n"
          ]
        }
      ],
      "source": [
        "graph = convert_pgm_to_pgmpy(pgm)\n",
        "inference = CausalInference(graph)\n",
        "print(\n",
        "    f\"Are there are active backdoor paths? {not inference.is_valid_backdoor_adjustment_set('X', 'Y')}\"\n",
        ")\n",
        "adj_sets = inference.get_all_backdoor_adjustment_sets(\"X\", \"Y\")\n",
        "print(f\"If so, what's the possible backdoor adjustment sets? {adj_sets}\")"
      ]
    },
    {
      "cell_type": "markdown",
      "metadata": {
        "id": "WPrvEIFHx0_h"
      },
      "source": [
        "### Game 4"
      ]
    },
    {
      "cell_type": "code",
      "execution_count": 11,
      "metadata": {
        "cellView": "form",
        "colab": {
          "base_uri": "https://localhost:8080/",
          "height": 351
        },
        "id": "XP2ORZw8EtyZ",
        "outputId": "91f0bb95-602b-47c2-caf1-813bfe182e9f",
        "tags": []
      },
      "outputs": [
        {
          "output_type": "display_data",
          "data": {
            "text/plain": [
              "<Figure size 314.961x314.961 with 1 Axes>"
            ],
            "image/png": "[encoded data removed]"
          },
          "metadata": {}
        }
      ],
      "source": [
        "# @markdown Pearl named this particular configuration \"M Bias\", not only because of it's shape, but also because of the common practice of statisticians to want to control for B in many situations.  However, notice how in this configuration X and Y start out as *not confounded* and how by controlling for B we would actually introduce confounding by opening the path at the collider, B.\n",
        "pgm = PGM(shape=[4, 4])\n",
        "\n",
        "pgm.add_node(daft.Node(\"X\", r\"X\", 1, 1))\n",
        "pgm.add_node(daft.Node(\"Y\", r\"Y\", 3, 1))\n",
        "pgm.add_node(daft.Node(\"A\", r\"A\", 1, 3))\n",
        "pgm.add_node(daft.Node(\"B\", r\"B\", 2, 2))\n",
        "pgm.add_node(daft.Node(\"C\", r\"C\", 3, 3))\n",
        "\n",
        "\n",
        "pgm.add_edge(\"A\", \"X\")\n",
        "pgm.add_edge(\"A\", \"B\")\n",
        "pgm.add_edge(\"C\", \"B\")\n",
        "pgm.add_edge(\"C\", \"Y\")\n",
        "\n",
        "pgm.render()\n",
        "plt.show()"
      ]
    },
    {
      "cell_type": "code",
      "execution_count": 12,
      "metadata": {
        "colab": {
          "base_uri": "https://localhost:8080/"
        },
        "id": "CBaGzLKSFmnQ",
        "outputId": "6fdb0282-8681-48d8-c0de-e75cad185321",
        "scrolled": true,
        "tags": []
      },
      "outputs": [
        {
          "output_type": "stream",
          "name": "stdout",
          "text": [
            "Are there are active backdoor paths? False\n",
            "If so, what's the possible backdoor adjustment sets? frozenset()\n"
          ]
        }
      ],
      "source": [
        "graph = convert_pgm_to_pgmpy(pgm)\n",
        "inference = CausalInference(graph)\n",
        "print(\n",
        "    f\"Are there are active backdoor paths? {not inference.is_valid_backdoor_adjustment_set('X', 'Y')}\"\n",
        ")\n",
        "adj_sets = inference.get_all_backdoor_adjustment_sets(\"X\", \"Y\")\n",
        "print(f\"If so, what's the possible backdoor adjustment sets? {adj_sets}\")"
      ]
    },
    {
      "cell_type": "markdown",
      "metadata": {
        "id": "Y4fnxAu8x0_i"
      },
      "source": [
        "### Game 5"
      ]
    },
    {
      "cell_type": "code",
      "execution_count": 13,
      "metadata": {
        "cellView": "form",
        "colab": {
          "base_uri": "https://localhost:8080/",
          "height": 351
        },
        "id": "ZAbSVPvZFxZH",
        "outputId": "88fffe74-c041-4407-91fd-bea6c835c311",
        "tags": []
      },
      "outputs": [
        {
          "output_type": "display_data",
          "data": {
            "text/plain": [
              "<Figure size 314.961x314.961 with 1 Axes>"
            ],
            "image/png": "[encoded data removed]"
          },
          "metadata": {}
        }
      ],
      "source": [
        "# @markdown This is the last game in The Book of Why is the most complex.  In this case we have two backdoor paths, one going through A and the other through B, and it's important to notice that if we only control for B that the path: X <- A -> B <- C -> Y (which starts out as closed because B is a collider) actually is opened.  Therefore we have to either close both A and B or, as astute observers will notice, we can also just close C and completely close both backdoor paths.  pgmpy will nicely confirm these results for us.\n",
        "pgm = PGM(shape=[4, 4])\n",
        "\n",
        "pgm.add_node(daft.Node(\"X\", r\"X\", 1, 1))\n",
        "pgm.add_node(daft.Node(\"Y\", r\"Y\", 3, 1))\n",
        "pgm.add_node(daft.Node(\"A\", r\"A\", 1, 3))\n",
        "pgm.add_node(daft.Node(\"B\", r\"B\", 2, 2))\n",
        "pgm.add_node(daft.Node(\"C\", r\"C\", 3, 3))\n",
        "\n",
        "\n",
        "pgm.add_edge(\"A\", \"X\")\n",
        "pgm.add_edge(\"A\", \"B\")\n",
        "pgm.add_edge(\"C\", \"B\")\n",
        "pgm.add_edge(\"C\", \"Y\")\n",
        "pgm.add_edge(\"X\", \"Y\")\n",
        "pgm.add_edge(\"B\", \"X\")\n",
        "\n",
        "pgm.render()\n",
        "plt.show()"
      ]
    },
    {
      "cell_type": "code",
      "execution_count": 14,
      "metadata": {
        "colab": {
          "base_uri": "https://localhost:8080/"
        },
        "id": "IF1jYMq_eNHd",
        "outputId": "e0c839c5-0155-4a37-85a8-dd7ce060a617",
        "tags": []
      },
      "outputs": [
        {
          "output_type": "stream",
          "name": "stdout",
          "text": [
            "Are there are active backdoor paths? True\n",
            "If so, what's the possible backdoor adjustment sets? frozenset({frozenset({'A', 'B'}), frozenset({'C'})})\n"
          ]
        }
      ],
      "source": [
        "graph = convert_pgm_to_pgmpy(pgm)\n",
        "inference = CausalInference(graph)\n",
        "print(\n",
        "    f\"Are there are active backdoor paths? {not inference.is_valid_backdoor_adjustment_set('X', 'Y')}\"\n",
        ")\n",
        "adj_sets = inference.get_all_backdoor_adjustment_sets(\"X\", \"Y\")\n",
        "print(f\"If so, what's the possible backdoor adjustment sets? {adj_sets}\")"
      ]
    },
    {
      "cell_type": "code",
      "execution_count": 15,
      "metadata": {
        "colab": {
          "base_uri": "https://localhost:8080/",
          "height": 351
        },
        "id": "dSjZqd5fHF06",
        "outputId": "8b608fc2-25a9-40a4-b342-c76455997938",
        "tags": []
      },
      "outputs": [
        {
          "output_type": "display_data",
          "data": {
            "text/plain": [
              "<Figure size 314.961x314.961 with 1 Axes>"
            ],
            "image/png": "[encoded data removed]"
          },
          "metadata": {}
        }
      ],
      "source": [
        "# @title # Game 6\n",
        "# @markdown So these are no longer drawn from The Book of Why, but were either drawn from another source (which I will reference) or a developed to try to induce a specific bug.\n",
        "# @markdown This example is drawn from Causality by Pearl on p. 80. This example is kind of interesting because there are many possible combinations of nodes which will close the two backdoor paths which exist in this graph.  In turns out that D plus any other node in {A, B, C, E} will deconfound X and Y.\n",
        "\n",
        "pgm = PGM(shape=[4, 4])\n",
        "\n",
        "pgm.add_node(daft.Node(\"X\", r\"X\", 1, 1))\n",
        "pgm.add_node(daft.Node(\"Y\", r\"Y\", 3, 1))\n",
        "pgm.add_node(daft.Node(\"A\", r\"A\", 1, 3))\n",
        "pgm.add_node(daft.Node(\"B\", r\"B\", 3, 3))\n",
        "pgm.add_node(daft.Node(\"C\", r\"C\", 1, 2))\n",
        "pgm.add_node(daft.Node(\"D\", r\"D\", 2, 2))\n",
        "pgm.add_node(daft.Node(\"E\", r\"E\", 3, 2))\n",
        "pgm.add_node(daft.Node(\"F\", r\"F\", 2, 1))\n",
        "\n",
        "\n",
        "pgm.add_edge(\"X\", \"F\")\n",
        "pgm.add_edge(\"F\", \"Y\")\n",
        "pgm.add_edge(\"C\", \"X\")\n",
        "pgm.add_edge(\"A\", \"C\")\n",
        "pgm.add_edge(\"A\", \"D\")\n",
        "pgm.add_edge(\"D\", \"X\")\n",
        "pgm.add_edge(\"D\", \"Y\")\n",
        "pgm.add_edge(\"B\", \"D\")\n",
        "pgm.add_edge(\"B\", \"E\")\n",
        "pgm.add_edge(\"E\", \"Y\")\n",
        "\n",
        "pgm.render()\n",
        "plt.show()"
      ]
    },
    {
      "cell_type": "code",
      "execution_count": 16,
      "metadata": {
        "colab": {
          "base_uri": "https://localhost:8080/"
        },
        "id": "30OIiRt7raN2",
        "outputId": "8059d87d-dd19-45b0-e2a4-d289ad39e97a",
        "tags": []
      },
      "outputs": [
        {
          "output_type": "stream",
          "name": "stdout",
          "text": [
            "Are there are active backdoor paths? True\n",
            "If so, what's the possible backdoor adjustment sets? frozenset({frozenset({'A', 'D'}), frozenset({'E', 'D'}), frozenset({'C', 'D'}), frozenset({'B', 'D'})})\n",
            "Ehat's the possible front adjustment sets? frozenset({frozenset({'F'})})\n"
          ]
        }
      ],
      "source": [
        "graph = convert_pgm_to_pgmpy(pgm)\n",
        "inference = CausalInference(graph)\n",
        "print(\n",
        "    f\"Are there are active backdoor paths? {not inference.is_valid_backdoor_adjustment_set('X', 'Y')}\"\n",
        ")\n",
        "bd_adj_sets = inference.get_all_backdoor_adjustment_sets(\"X\", \"Y\")\n",
        "print(f\"If so, what's the possible backdoor adjustment sets? {bd_adj_sets}\")\n",
        "fd_adj_sets = inference.get_all_frontdoor_adjustment_sets(\"X\", \"Y\")\n",
        "print(f\"Ehat's the possible front adjustment sets? {fd_adj_sets}\")"
      ]
    },
    {
      "cell_type": "code",
      "execution_count": 17,
      "metadata": {
        "cellView": "form",
        "colab": {
          "base_uri": "https://localhost:8080/",
          "height": 273
        },
        "id": "Z4pkuyOwM9xq",
        "outputId": "a4d99599-e8b2-4797-95e3-d186a43757be",
        "tags": []
      },
      "outputs": [
        {
          "output_type": "display_data",
          "data": {
            "text/plain": [
              "<Figure size 314.961x236.22 with 1 Axes>"
            ],
            "image/png": "[encoded data removed]"
          },
          "metadata": {}
        }
      ],
      "source": [
        "# @title # Game 7\n",
        "# @markdown This game tests the front door adjustment.  B is taken to be unobserved, and therfore we cannot close the backdoor path X <- B -> Y.\n",
        "pgm = PGM(shape=[4, 3])\n",
        "\n",
        "pgm.add_node(daft.Node(\"X\", r\"X\", 1, 1))\n",
        "pgm.add_node(daft.Node(\"Y\", r\"Y\", 3, 1))\n",
        "pgm.add_node(daft.Node(\"A\", r\"A\", 2, 1))\n",
        "pgm.add_node(daft.Node(\"B\", r\"B\", 2, 2))\n",
        "\n",
        "\n",
        "pgm.add_edge(\"X\", \"A\")\n",
        "pgm.add_edge(\"A\", \"Y\")\n",
        "pgm.add_edge(\"B\", \"X\")\n",
        "pgm.add_edge(\"B\", \"Y\")\n",
        "\n",
        "pgm.render()\n",
        "plt.show()"
      ]
    },
    {
      "cell_type": "code",
      "execution_count": 18,
      "metadata": {
        "colab": {
          "base_uri": "https://localhost:8080/"
        },
        "id": "m8DZd_FQ4uLV",
        "outputId": "a9102b98-f480-4bf5-947f-cc17df5593cf",
        "tags": []
      },
      "outputs": [
        {
          "output_type": "stream",
          "name": "stdout",
          "text": [
            "Are there are active backdoor paths? True\n",
            "If so, what's the possible backdoor adjustment sets? frozenset({frozenset({'B'})})\n",
            "Ehat's the possible front adjustment sets? frozenset({frozenset({'A'})})\n"
          ]
        }
      ],
      "source": [
        "graph = convert_pgm_to_pgmpy(pgm)\n",
        "inference = CausalInference(graph)\n",
        "print(\n",
        "    f\"Are there are active backdoor paths? {not inference.is_valid_backdoor_adjustment_set('X', 'Y')}\"\n",
        ")\n",
        "bd_adj_sets = inference.get_all_backdoor_adjustment_sets(\"X\", \"Y\")\n",
        "print(f\"If so, what's the possible backdoor adjustment sets? {bd_adj_sets}\")\n",
        "fd_adj_sets = inference.get_all_frontdoor_adjustment_sets(\"X\", \"Y\")\n",
        "print(f\"Ehat's the possible front adjustment sets? {fd_adj_sets}\")"
      ]
    }
  ],
  "metadata": {
    "colab": {
      "provenance": []
    },
    "kernelspec": {
      "display_name": "Python3",
      "language": "python",
      "name": "python3"
    },
    "language_info": {
      "codemirror_mode": {
        "name": "ipython",
        "version": 3
      },
      "file_extension": ".py",
      "mimetype": "text/x-python",
      "name": "python",
      "nbconvert_exporter": "python",
      "pygments_lexer": "ipython3",
      "version": "3.11.13"
    }
  },
  "nbformat": 4,
  "nbformat_minor": 0
}
