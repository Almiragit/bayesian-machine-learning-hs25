{
 "cells": [
  {
   "cell_type": "markdown",
   "metadata": {},
   "source": [
    "# Learning Bayesian Networks from Data\n",
    "\n",
    "\n",
    "Previous notebooks showed how Bayesian networks economically encode a probability distribution over a set of variables, and how they can be used e.g. _to predict variable states. This section will be about obtaining a Bayesian network, given a set of sample data_. Learning a Bayesian network can be split into two problems:\n",
    "\n",
    " **Parameter learning:** Given a set of data samples and a DAG that captures the dependencies between the variables, estimate the (conditional) probability distributions of the individual variables.\n",
    " \n",
    " **Structure learning:** Given a set of data samples, estimate a DAG that captures the dependencies between the variables.\n",
    " \n",
    "This notebook aims to illustrate how parameter learning can be done with `pgmpy`.\n",
    "Currently, the library supports:\n",
    " - Parameter learning for *discrete* nodes:\n",
    "   - Maximum Likelihood Estimation\n",
    "   - Bayesian Estimation with Smoothing\n",
    "   - Expectation Maximization (EM)\n",
    "\n",
    "\n",
    "## 1. Maximum Likelihood Estimation\n",
    "\n",
    "Suppose we have the following data:"
   ]
  },
  {
   "cell_type": "code",
   "execution_count": 1,
   "metadata": {
    "tags": []
   },
   "outputs": [
    {
     "name": "stdout",
     "output_type": "stream",
     "text": [
      "     fruit tasty   size\n",
      "0   banana   yes  large\n",
      "1    apple    no  large\n",
      "2   banana   yes  large\n",
      "3    apple   yes  small\n",
      "4   banana   yes  large\n",
      "5    apple   yes  large\n",
      "6   banana   yes  large\n",
      "7    apple   yes  small\n",
      "8    apple   yes  large\n",
      "9    apple   yes  large\n",
      "10  banana   yes  large\n",
      "11  banana    no  large\n",
      "12   apple    no  small\n",
      "13  banana    no  small\n"
     ]
    }
   ],
   "source": [
    "import pandas as pd\n",
    "data = pd.DataFrame(data={'fruit': [\"banana\", \"apple\", \"banana\", \"apple\", \"banana\",\"apple\", \"banana\", \n",
    "                                    \"apple\", \"apple\", \"apple\", \"banana\", \"banana\", \"apple\", \"banana\",], \n",
    "                          'tasty': [\"yes\", \"no\", \"yes\", \"yes\", \"yes\", \"yes\", \"yes\", \n",
    "                                    \"yes\", \"yes\", \"yes\", \"yes\", \"no\", \"no\", \"no\"], \n",
    "                          'size': [\"large\", \"large\", \"large\", \"small\", \"large\", \"large\", \"large\",\n",
    "                                    \"small\", \"large\", \"large\", \"large\", \"large\", \"small\", \"small\"]})\n",
    "print(data)"
   ]
  },
  {
   "cell_type": "markdown",
   "metadata": {},
   "source": [
    "We know that the variables relate as follows:"
   ]
  },
  {
   "cell_type": "code",
   "execution_count": 2,
   "metadata": {
    "tags": []
   },
   "outputs": [],
   "source": [
    "from pgmpy.models import BayesianNetwork\n",
    "\n",
    "model = BayesianNetwork([('fruit', 'tasty'), ('size', 'tasty')])  # fruit -> tasty <- size"
   ]
  },
  {
   "cell_type": "markdown",
   "metadata": {},
   "source": [
    "Parameter learning is the task to estimate the values of the conditional probability distributions (CPDs), for the variables `fruit`, `size`, and `tasty`. \n",
    "\n",
    "#### State counts\n",
    "To make sense of the given data, we can start by counting how often each state of the variable occurs. If the variable is dependent on parents, the counts are done conditionally on the parents states, i.e. separately for each parent configuration:"
   ]
  },
  {
   "cell_type": "code",
   "execution_count": 3,
   "metadata": {
    "tags": []
   },
   "outputs": [
    {
     "name": "stdout",
     "output_type": "stream",
     "text": [
      "\n",
      "         count\n",
      "fruit        \n",
      "apple       7\n",
      "banana      7\n",
      "\n",
      " fruit apple       banana      \n",
      "size  large small  large small\n",
      "tasty                         \n",
      "no      1.0   1.0    1.0   1.0\n",
      "yes     3.0   2.0    5.0   0.0\n"
     ]
    }
   ],
   "source": [
    "from pgmpy.estimators import ParameterEstimator\n",
    "pe = ParameterEstimator(model, data)\n",
    "print(\"\\n\", pe.state_counts('fruit'))  # unconditional\n",
    "print(\"\\n\", pe.state_counts('tasty'))  # conditional on fruit and size"
   ]
  },
  {
   "cell_type": "markdown",
   "metadata": {},
   "source": [
    "We can see, for example, that as many apples as bananas were observed and that `5` large bananas were tasty, while only `1` was not.\n",
    "\n",
    "#### Maximum Likelihood Estimation\n",
    "\n",
    "A natural estimate for the CPDs is to simply use the *relative frequencies*, with which the variable states have occured. We observed `7 apples` among a total of `14 fruits`, so we might guess that about `50%` of `fruits` are `apples`.\n",
    "\n",
    "This approach is *Maximum Likelihood Estimation (MLE)*. According to MLE, we should fill the CPDs in such a way, that $P(\\text{data}|\\text{model})$ is maximal. This is achieved when using the *relative frequencies*. See [1], section 17.1 for an introduction to ML parameter estimation. `pgmpy` supports MLE as follows:"
   ]
  },
  {
   "cell_type": "code",
   "execution_count": 4,
   "metadata": {
    "tags": []
   },
   "outputs": [
    {
     "name": "stdout",
     "output_type": "stream",
     "text": [
      "+---------------+-----+\n",
      "| fruit(apple)  | 0.5 |\n",
      "+---------------+-----+\n",
      "| fruit(banana) | 0.5 |\n",
      "+---------------+-----+\n",
      "+------------+--------------+-----+---------------+\n",
      "| fruit      | fruit(apple) | ... | fruit(banana) |\n",
      "+------------+--------------+-----+---------------+\n",
      "| size       | size(large)  | ... | size(small)   |\n",
      "+------------+--------------+-----+---------------+\n",
      "| tasty(no)  | 0.25         | ... | 1.0           |\n",
      "+------------+--------------+-----+---------------+\n",
      "| tasty(yes) | 0.75         | ... | 0.0           |\n",
      "+------------+--------------+-----+---------------+\n"
     ]
    }
   ],
   "source": [
    "from pgmpy.estimators import MaximumLikelihoodEstimator\n",
    "mle = MaximumLikelihoodEstimator(model, data)\n",
    "print(mle.estimate_cpd('fruit'))  # unconditional\n",
    "print(mle.estimate_cpd('tasty'))  # conditional"
   ]
  },
  {
   "cell_type": "markdown",
   "metadata": {},
   "source": [
    "- `mle.estimate_cpd(variable)` computes the state counts and divides each cell by the (conditional) sample size. \n",
    "- The `mle.get_parameters()`-method returns a list of CPDs for all variables of the model.\n",
    "\n",
    "- The built-in `fit()`-method of `BayesianNetwork` provides more convenient access to parameter estimators:\n"
   ]
  },
  {
   "cell_type": "code",
   "execution_count": 5,
   "metadata": {
    "tags": []
   },
   "outputs": [],
   "source": [
    "# Calibrate all CPDs of `model` using MLE:\n",
    "model.fit(data, estimator=MaximumLikelihoodEstimator)"
   ]
  },
  {
   "cell_type": "markdown",
   "metadata": {},
   "source": [
    "\n",
    "While very straightforward, the ML estimator has the problem of *overfitting* to the data. In above CPD, the probability of a large banana being tasty is estimated at `0.833`, because `5` out of `6` observed large bananas were tasty. Fine. But note that the probability of a small banana being tasty is estimated at `0.0`, because we  observed only one small banana and it happened to be not tasty. But that should hardly make us certain that small bananas aren't tasty!\n",
    "We simply do not have enough observations to rely on the observed frequencies. If the observed data is not representative for the underlying distribution, ML estimations will be extremly far off. \n",
    "\n",
    "When estimating parameters for Bayesian networks, lack of data is a frequent problem. Even if the total sample size is very large, the fact that state counts are done conditionally for each parents configuration causes immense fragmentation. If a variable has 3 parents that can each take 10 states, then state counts will be done separately for `10^3 = 1000` parents configurations. This makes MLE very fragile and unstable for learning Bayesian Network parameters. A way to mitigate MLE's overfitting is *Bayesian Parameter Estimation*.\n",
    "\n",
    "## 2. Bayesian Parameter Estimation with Smoothing\n",
    "\n",
    "The Bayesian Parameter Estimator starts with already existing prior CPDs, that express our beliefs about the variables *before* the data was observed. Those \"priors\" are then updated, using the state counts from the observed data. See [1], Section 17.3 for a general introduction to Bayesian estimators.\n",
    "\n",
    "One can think of the priors as consisting in *pseudo state counts*, that are added to the actual counts before normalization.\n",
    "Unless one wants to encode specific beliefs about the distributions of the variables, one commonly chooses uniform priors, i.e. ones that deem all states equiprobable.\n",
    "\n",
    "A very simple prior is the so-called `K2` prior (_Laplace smoothing_), which simply adds `1` to the count of every single state.\n",
    "A somewhat more sensible choice of prior is `BDeu` (Bayesian Dirichlet equivalent uniform prior). For `BDeu` we need to specify an _equivalent sample size_ `N` and then the pseudo-counts are the equivalent of having observed `N` uniform samples of each variable (and each parent configuration). In `pgmpy`:\n",
    "\n",
    "\n"
   ]
  },
  {
   "cell_type": "code",
   "execution_count": 6,
   "metadata": {
    "scrolled": true,
    "tags": []
   },
   "outputs": [
    {
     "name": "stdout",
     "output_type": "stream",
     "text": [
      "+------------+---------------------+-----+---------------------+\n",
      "| fruit      | fruit(apple)        | ... | fruit(banana)       |\n",
      "+------------+---------------------+-----+---------------------+\n",
      "| size       | size(large)         | ... | size(small)         |\n",
      "+------------+---------------------+-----+---------------------+\n",
      "| tasty(no)  | 0.34615384615384615 | ... | 0.6428571428571429  |\n",
      "+------------+---------------------+-----+---------------------+\n",
      "| tasty(yes) | 0.6538461538461539  | ... | 0.35714285714285715 |\n",
      "+------------+---------------------+-----+---------------------+\n"
     ]
    }
   ],
   "source": [
    "from pgmpy.estimators import BayesianEstimator\n",
    "est = BayesianEstimator(model, data)\n",
    "\n",
    "print(est.estimate_cpd('tasty', prior_type='BDeu', equivalent_sample_size=10))"
   ]
  },
  {
   "cell_type": "markdown",
   "metadata": {},
   "source": [
    "The estimated values in the CPDs are now more conservative. In particular, the estimate for a small banana being not tasty is now around `0.64` rather than `1.0`. Setting `equivalent_sample_size` to `10` means that for each parent configuration, we add the equivalent of 10 uniform samples (here: `+5` small bananas that are tasty and `+5` that aren't).\n",
    "\n",
    "`BayesianEstimator`, too, can be used via the `fit()`-method. Full example:"
   ]
  },
  {
   "cell_type": "code",
   "execution_count": 7,
   "metadata": {
    "tags": []
   },
   "outputs": [
    {
     "name": "stdout",
     "output_type": "stream",
     "text": [
      "+------+----------+\n",
      "| A(0) | 0.504795 |\n",
      "+------+----------+\n",
      "| A(1) | 0.495205 |\n",
      "+------+----------+\n",
      "+------+--------------------+--------------------+\n",
      "| A    | A(0)               | A(1)               |\n",
      "+------+--------------------+--------------------+\n",
      "| B(0) | 0.5079160894518108 | 0.4967722412749647 |\n",
      "+------+--------------------+--------------------+\n",
      "| B(1) | 0.4920839105481892 | 0.5032277587250353 |\n",
      "+------+--------------------+--------------------+\n",
      "+------+--------------------+-----+--------------------+\n",
      "| A    | A(0)               | ... | A(1)               |\n",
      "+------+--------------------+-----+--------------------+\n",
      "| D    | D(0)               | ... | D(1)               |\n",
      "+------+--------------------+-----+--------------------+\n",
      "| C(0) | 0.4926484813310118 | ... | 0.4906826007696982 |\n",
      "+------+--------------------+-----+--------------------+\n",
      "| C(1) | 0.5073515186689882 | ... | 0.5093173992303018 |\n",
      "+------+--------------------+-----+--------------------+\n",
      "+------+-------------------+--------------------+\n",
      "| B    | B(0)              | B(1)               |\n",
      "+------+-------------------+--------------------+\n",
      "| D(0) | 0.503181547027242 | 0.5104396707488457 |\n",
      "+------+-------------------+--------------------+\n",
      "| D(1) | 0.496818452972758 | 0.4895603292511544 |\n",
      "+------+-------------------+--------------------+\n"
     ]
    }
   ],
   "source": [
    "import numpy as np\n",
    "import pandas as pd\n",
    "from pgmpy.models import BayesianNetwork\n",
    "from pgmpy.estimators import BayesianEstimator\n",
    "\n",
    "# generate data\n",
    "data = pd.DataFrame(np.random.randint(low=0, high=2, size=(5000, 4)), columns=['A', 'B', 'C', 'D'])\n",
    "model = BayesianNetwork([('A', 'B'), ('A', 'C'), ('D', 'C'), ('B', 'D')])\n",
    "\n",
    "model.fit(data, estimator=BayesianEstimator, prior_type=\"BDeu\") # default equivalent_sample_size=5\n",
    "for cpd in model.get_cpds():\n",
    "    print(cpd)\n"
   ]
  },
  {
   "cell_type": "markdown",
   "metadata": {},
   "source": [
    "## 3. Expection Maximization (EM) Algorithm"
   ]
  },
  {
   "cell_type": "markdown",
   "metadata": {},
   "source": [
    "For this example, we simulate some data from the [alarm model](https://www.bnlearn.com/bnrepository/discrete-medium.html#alarm) and use it to learn back the model parameters. In this example, we simply use the structure to the _alarm model_."
   ]
  },
  {
   "cell_type": "code",
   "execution_count": 8,
   "metadata": {
    "tags": []
   },
   "outputs": [
    {
     "data": {
      "application/vnd.jupyter.widget-view+json": {
       "model_id": "a9e26bb05ea143e28d81d4f1fa596d64",
       "version_major": 2,
       "version_minor": 0
      },
      "text/plain": [
       "  0%|          | 0/37 [00:00<?, ?it/s]"
      ]
     },
     "metadata": {},
     "output_type": "display_data"
    },
    {
     "name": "stderr",
     "output_type": "stream",
     "text": [
      "WARNING:pgmpy:Probability values don't exactly sum to 1. Differ by: -2.220446049250313e-16. Adjusting values.\n"
     ]
    },
    {
     "name": "stdout",
     "output_type": "stream",
     "text": [
      "  KINKEDTUBE VENTALV      CO HISTORY ARTCO2 ERRLOWOUTPUT   PVSAT STROKEVOLUME  \\\n",
      "0      FALSE    ZERO    HIGH   FALSE   HIGH        FALSE     LOW       NORMAL   \n",
      "1      FALSE     LOW    HIGH   FALSE   HIGH        FALSE  NORMAL       NORMAL   \n",
      "2      FALSE    ZERO  NORMAL   FALSE   HIGH        FALSE     LOW       NORMAL   \n",
      "3       TRUE    ZERO    HIGH   FALSE   HIGH        FALSE     LOW       NORMAL   \n",
      "4      FALSE    ZERO    HIGH   FALSE   HIGH        FALSE     LOW       NORMAL   \n",
      "\n",
      "  VENTTUBE   SHUNT  ... LVFAILURE EXPCO2    SAO2 MINVOL      HR HREKG  \\\n",
      "0     ZERO  NORMAL  ...     FALSE    LOW     LOW   ZERO    HIGH  HIGH   \n",
      "1      LOW  NORMAL  ...     FALSE    LOW  NORMAL    LOW    HIGH  HIGH   \n",
      "2      LOW  NORMAL  ...     FALSE    LOW     LOW   ZERO  NORMAL   LOW   \n",
      "3      LOW  NORMAL  ...     FALSE    LOW     LOW   ZERO    HIGH  HIGH   \n",
      "4      LOW  NORMAL  ...     FALSE    LOW     LOW   ZERO    HIGH  HIGH   \n",
      "\n",
      "  ANAPHYLAXIS DISCONNECT     PAP HRSAT  \n",
      "0       FALSE       TRUE  NORMAL  HIGH  \n",
      "1       FALSE      FALSE  NORMAL  HIGH  \n",
      "2       FALSE      FALSE  NORMAL   LOW  \n",
      "3       FALSE      FALSE  NORMAL  HIGH  \n",
      "4       FALSE      FALSE  NORMAL  HIGH  \n",
      "\n",
      "[5 rows x 37 columns]\n"
     ]
    }
   ],
   "source": [
    "from pgmpy.utils import get_example_model\n",
    "from pgmpy.models import BayesianNetwork\n",
    "\n",
    "# Load the alarm model and simulate data from it.\n",
    "alarm_model = get_example_model(model=\"alarm\")\n",
    "samples = alarm_model.simulate(n_samples=int(1e3))\n",
    "\n",
    "print(samples.head())\n",
    "\n",
    "# Define a new model with the same structure as the alarm model.\n",
    "new_model = BayesianNetwork(ebunch=alarm_model.edges())"
   ]
  },
  {
   "cell_type": "markdown",
   "metadata": {},
   "source": [
    "The _Expectation Maximization_ (EM) estimator can work in the case when latent variables are present in the model. To simulate this scenario, we will specify some of the variables in our `new_model` as latents and drop those variables from samples to simulate missing data."
   ]
  },
  {
   "cell_type": "code",
   "execution_count": 9,
   "metadata": {
    "tags": []
   },
   "outputs": [],
   "source": [
    "model_latent = BayesianNetwork(alarm_model.edges(), latents={'HISTORY', 'CVP'})\n",
    "samples_latent = samples.drop(['HISTORY', 'CVP'], axis=1)"
   ]
  },
  {
   "cell_type": "code",
   "execution_count": 21,
   "metadata": {
    "tags": []
   },
   "outputs": [
    {
     "data": {
      "application/vnd.jupyter.widget-view+json": {
       "model_id": "2b129012935a423eab675c34a36f8bfb",
       "version_major": 2,
       "version_minor": 0
      },
      "text/plain": [
       "  0%|          | 0/100 [00:00<?, ?it/s]"
      ]
     },
     "metadata": {},
     "output_type": "display_data"
    },
    {
     "name": "stdout",
     "output_type": "stream",
     "text": [
      "Conditional Probability Distribution for KINKEDTUBE:\n",
      "+-------------------+------+\n",
      "| KINKEDTUBE(FALSE) | 0.96 |\n",
      "+-------------------+------+\n",
      "| KINKEDTUBE(TRUE)  | 0.04 |\n",
      "+-------------------+------+\n",
      "Conditional Probability Distribution for VENTALV:\n",
      "+-----------------+-----+----------------------+\n",
      "| INTUBATION      | ... | INTUBATION(ONESIDED) |\n",
      "+-----------------+-----+----------------------+\n",
      "| VENTLUNG        | ... | VENTLUNG(ZERO)       |\n",
      "+-----------------+-----+----------------------+\n",
      "| VENTALV(HIGH)   | ... | 0.0                  |\n",
      "+-----------------+-----+----------------------+\n",
      "| VENTALV(LOW)    | ... | 0.0                  |\n",
      "+-----------------+-----+----------------------+\n",
      "| VENTALV(NORMAL) | ... | 1.0                  |\n",
      "+-----------------+-----+----------------------+\n",
      "| VENTALV(ZERO)   | ... | 0.0                  |\n",
      "+-----------------+-----+----------------------+\n",
      "Conditional Probability Distribution for CO:\n",
      "+--------------+-----+----------------------+\n",
      "| HR           | ... | HR(NORMAL)           |\n",
      "+--------------+-----+----------------------+\n",
      "| STROKEVOLUME | ... | STROKEVOLUME(NORMAL) |\n",
      "+--------------+-----+----------------------+\n",
      "| CO(HIGH)     | ... | 0.007352941176470588 |\n",
      "+--------------+-----+----------------------+\n",
      "| CO(LOW)      | ... | 0.029411764705882353 |\n",
      "+--------------+-----+----------------------+\n",
      "| CO(NORMAL)   | ... | 0.9632352941176471   |\n",
      "+--------------+-----+----------------------+\n",
      "Conditional Probability Distribution for ARTCO2:\n",
      "+----------------+-----+-----------------------+\n",
      "| VENTALV        | ... | VENTALV(ZERO)         |\n",
      "+----------------+-----+-----------------------+\n",
      "| ARTCO2(HIGH)   | ... | 0.9785100286532952    |\n",
      "+----------------+-----+-----------------------+\n",
      "| ARTCO2(LOW)    | ... | 0.01862464183381089   |\n",
      "+----------------+-----+-----------------------+\n",
      "| ARTCO2(NORMAL) | ... | 0.0028653295128939827 |\n",
      "+----------------+-----+-----------------------+\n",
      "Conditional Probability Distribution for ERRLOWOUTPUT:\n",
      "+---------------------+-------+\n",
      "| ERRLOWOUTPUT(FALSE) | 0.953 |\n",
      "+---------------------+-------+\n",
      "| ERRLOWOUTPUT(TRUE)  | 0.047 |\n",
      "+---------------------+-------+\n",
      "Conditional Probability Distribution for STROKEVOLUME:\n",
      "+----------------------+-----+-------------------+\n",
      "| HYPOVOLEMIA          | ... | HYPOVOLEMIA(TRUE) |\n",
      "+----------------------+-----+-------------------+\n",
      "| LVFAILURE            | ... | LVFAILURE(TRUE)   |\n",
      "+----------------------+-----+-------------------+\n",
      "| STROKEVOLUME(HIGH)   | ... | 0.0               |\n",
      "+----------------------+-----+-------------------+\n",
      "| STROKEVOLUME(LOW)    | ... | 1.0               |\n",
      "+----------------------+-----+-------------------+\n",
      "| STROKEVOLUME(NORMAL) | ... | 0.0               |\n",
      "+----------------------+-----+-------------------+\n",
      "Conditional Probability Distribution for VENTTUBE:\n",
      "+------------------+-----+---------------------+\n",
      "| DISCONNECT       | ... | DISCONNECT(TRUE)    |\n",
      "+------------------+-----+---------------------+\n",
      "| VENTMACH         | ... | VENTMACH(ZERO)      |\n",
      "+------------------+-----+---------------------+\n",
      "| VENTTUBE(HIGH)   | ... | 0.0                 |\n",
      "+------------------+-----+---------------------+\n",
      "| VENTTUBE(LOW)    | ... | 0.16666666666666666 |\n",
      "+------------------+-----+---------------------+\n",
      "| VENTTUBE(NORMAL) | ... | 0.0                 |\n",
      "+------------------+-----+---------------------+\n",
      "| VENTTUBE(ZERO)   | ... | 0.8333333333333334  |\n",
      "+------------------+-----+---------------------+\n",
      "Conditional Probability Distribution for SHUNT:\n",
      "+---------------+-----+----------------------+\n",
      "| INTUBATION    | ... | INTUBATION(ONESIDED) |\n",
      "+---------------+-----+----------------------+\n",
      "| PULMEMBOLUS   | ... | PULMEMBOLUS(TRUE)    |\n",
      "+---------------+-----+----------------------+\n",
      "| SHUNT(HIGH)   | ... | 0.5                  |\n",
      "+---------------+-----+----------------------+\n",
      "| SHUNT(NORMAL) | ... | 0.5                  |\n",
      "+---------------+-----+----------------------+\n",
      "Conditional Probability Distribution for VENTLUNG:\n",
      "+------------------+-----+----------------------+\n",
      "| INTUBATION       | ... | INTUBATION(ONESIDED) |\n",
      "+------------------+-----+----------------------+\n",
      "| KINKEDTUBE       | ... | KINKEDTUBE(TRUE)     |\n",
      "+------------------+-----+----------------------+\n",
      "| VENTTUBE         | ... | VENTTUBE(ZERO)       |\n",
      "+------------------+-----+----------------------+\n",
      "| VENTLUNG(HIGH)   | ... | 0.25                 |\n",
      "+------------------+-----+----------------------+\n",
      "| VENTLUNG(LOW)    | ... | 0.25                 |\n",
      "+------------------+-----+----------------------+\n",
      "| VENTLUNG(NORMAL) | ... | 0.25                 |\n",
      "+------------------+-----+----------------------+\n",
      "| VENTLUNG(ZERO)   | ... | 0.25                 |\n",
      "+------------------+-----+----------------------+\n",
      "Conditional Probability Distribution for INSUFFANESTH:\n",
      "+---------------------+-------+\n",
      "| INSUFFANESTH(FALSE) | 0.909 |\n",
      "+---------------------+-------+\n",
      "| INSUFFANESTH(TRUE)  | 0.091 |\n",
      "+---------------------+-------+\n",
      "Conditional Probability Distribution for PRESS:\n",
      "+---------------+-----+----------------------+\n",
      "| INTUBATION    | ... | INTUBATION(ONESIDED) |\n",
      "+---------------+-----+----------------------+\n",
      "| KINKEDTUBE    | ... | KINKEDTUBE(TRUE)     |\n",
      "+---------------+-----+----------------------+\n",
      "| VENTTUBE      | ... | VENTTUBE(ZERO)       |\n",
      "+---------------+-----+----------------------+\n",
      "| PRESS(HIGH)   | ... | 0.25                 |\n",
      "+---------------+-----+----------------------+\n",
      "| PRESS(LOW)    | ... | 0.25                 |\n",
      "+---------------+-----+----------------------+\n",
      "| PRESS(NORMAL) | ... | 0.25                 |\n",
      "+---------------+-----+----------------------+\n",
      "| PRESS(ZERO)   | ... | 0.25                 |\n",
      "+---------------+-----+----------------------+\n",
      "Conditional Probability Distribution for TPR:\n",
      "+-------------+---------------------+-------------------+\n",
      "| ANAPHYLAXIS | ANAPHYLAXIS(FALSE)  | ANAPHYLAXIS(TRUE) |\n",
      "+-------------+---------------------+-------------------+\n",
      "| TPR(HIGH)   | 0.3023255813953488  | 0.0               |\n",
      "+-------------+---------------------+-------------------+\n",
      "| TPR(LOW)    | 0.30434782608695654 | 1.0               |\n",
      "+-------------+---------------------+-------------------+\n",
      "| TPR(NORMAL) | 0.39332659251769464 | 0.0               |\n",
      "+-------------+---------------------+-------------------+\n",
      "Conditional Probability Distribution for INTUBATION:\n",
      "+------------------------+-------+\n",
      "| INTUBATION(ESOPHAGEAL) | 0.03  |\n",
      "+------------------------+-------+\n",
      "| INTUBATION(NORMAL)     | 0.917 |\n",
      "+------------------------+-------+\n",
      "| INTUBATION(ONESIDED)   | 0.053 |\n",
      "+------------------------+-------+\n",
      "Conditional Probability Distribution for ANAPHYLAXIS:\n",
      "+--------------------+-------+\n",
      "| ANAPHYLAXIS(FALSE) | 0.989 |\n",
      "+--------------------+-------+\n",
      "| ANAPHYLAXIS(TRUE)  | 0.011 |\n",
      "+--------------------+-------+\n",
      "Conditional Probability Distribution for ERRCAUTER:\n",
      "+------------------+-------+\n",
      "| ERRCAUTER(FALSE) | 0.891 |\n",
      "+------------------+-------+\n",
      "| ERRCAUTER(TRUE)  | 0.109 |\n",
      "+------------------+-------+\n",
      "Conditional Probability Distribution for MINVOLSET:\n",
      "+-------------------+-------+\n",
      "| MINVOLSET(HIGH)   | 0.043 |\n",
      "+-------------------+-------+\n",
      "| MINVOLSET(LOW)    | 0.053 |\n",
      "+-------------------+-------+\n",
      "| MINVOLSET(NORMAL) | 0.904 |\n",
      "+-------------------+-------+\n",
      "Conditional Probability Distribution for VENTMACH:\n",
      "+------------------+-----+----------------------+\n",
      "| MINVOLSET        | ... | MINVOLSET(NORMAL)    |\n",
      "+------------------+-----+----------------------+\n",
      "| VENTMACH(HIGH)   | ... | 0.011061946902654867 |\n",
      "+------------------+-----+----------------------+\n",
      "| VENTMACH(LOW)    | ... | 0.012168141592920354 |\n",
      "+------------------+-----+----------------------+\n",
      "| VENTMACH(NORMAL) | ... | 0.9192477876106194   |\n",
      "+------------------+-----+----------------------+\n",
      "| VENTMACH(ZERO)   | ... | 0.05752212389380531  |\n",
      "+------------------+-----+----------------------+\n",
      "Conditional Probability Distribution for PULMEMBOLUS:\n",
      "+--------------------+------+\n",
      "| PULMEMBOLUS(FALSE) | 0.99 |\n",
      "+--------------------+------+\n",
      "| PULMEMBOLUS(TRUE)  | 0.01 |\n",
      "+--------------------+------+\n",
      "Conditional Probability Distribution for FIO2:\n",
      "+--------------+-------+\n",
      "| FIO2(LOW)    | 0.062 |\n",
      "+--------------+-------+\n",
      "| FIO2(NORMAL) | 0.938 |\n",
      "+--------------+-------+\n",
      "Conditional Probability Distribution for PCWP:\n",
      "+--------------+-----+----------------------+\n",
      "| LVEDVOLUME   | ... | LVEDVOLUME(NORMAL)   |\n",
      "+--------------+-----+----------------------+\n",
      "| PCWP(HIGH)   | ... | 0.013908205841446454 |\n",
      "+--------------+-----+----------------------+\n",
      "| PCWP(LOW)    | ... | 0.03616133518776078  |\n",
      "+--------------+-----+----------------------+\n",
      "| PCWP(NORMAL) | ... | 0.9499304589707928   |\n",
      "+--------------+-----+----------------------+\n",
      "Conditional Probability Distribution for BP:\n",
      "+------------+---------------------+-----+---------------------+\n",
      "| CO         | CO(HIGH)            | ... | CO(NORMAL)          |\n",
      "+------------+---------------------+-----+---------------------+\n",
      "| TPR        | TPR(HIGH)           | ... | TPR(NORMAL)         |\n",
      "+------------+---------------------+-----+---------------------+\n",
      "| BP(HIGH)   | 0.8451612903225807  | ... | 0.0                 |\n",
      "+------------+---------------------+-----+---------------------+\n",
      "| BP(LOW)    | 0.05161290322580645 | ... | 0.09615384615384616 |\n",
      "+------------+---------------------+-----+---------------------+\n",
      "| BP(NORMAL) | 0.1032258064516129  | ... | 0.9038461538461539  |\n",
      "+------------+---------------------+-----+---------------------+\n",
      "Conditional Probability Distribution for CATECHOL:\n",
      "+------------------+-----+--------------------+\n",
      "| ARTCO2           | ... | ARTCO2(NORMAL)     |\n",
      "+------------------+-----+--------------------+\n",
      "| INSUFFANESTH     | ... | INSUFFANESTH(TRUE) |\n",
      "+------------------+-----+--------------------+\n",
      "| SAO2             | ... | SAO2(NORMAL)       |\n",
      "+------------------+-----+--------------------+\n",
      "| TPR              | ... | TPR(NORMAL)        |\n",
      "+------------------+-----+--------------------+\n",
      "| CATECHOL(HIGH)   | ... | 0.5                |\n",
      "+------------------+-----+--------------------+\n",
      "| CATECHOL(NORMAL) | ... | 0.5                |\n",
      "+------------------+-----+--------------------+\n",
      "Conditional Probability Distribution for LVEDVOLUME:\n",
      "+--------------------+-----+-------------------+\n",
      "| HYPOVOLEMIA        | ... | HYPOVOLEMIA(TRUE) |\n",
      "+--------------------+-----+-------------------+\n",
      "| LVFAILURE          | ... | LVFAILURE(TRUE)   |\n",
      "+--------------------+-----+-------------------+\n",
      "| LVEDVOLUME(HIGH)   | ... | 0.0               |\n",
      "+--------------------+-----+-------------------+\n",
      "| LVEDVOLUME(LOW)    | ... | 1.0               |\n",
      "+--------------------+-----+-------------------+\n",
      "| LVEDVOLUME(NORMAL) | ... | 0.0               |\n",
      "+--------------------+-----+-------------------+\n",
      "Conditional Probability Distribution for HYPOVOLEMIA:\n",
      "+--------------------+------+\n",
      "| HYPOVOLEMIA(FALSE) | 0.81 |\n",
      "+--------------------+------+\n",
      "| HYPOVOLEMIA(TRUE)  | 0.19 |\n",
      "+--------------------+------+\n",
      "Conditional Probability Distribution for HRBP:\n",
      "+--------------+-----+--------------------+\n",
      "| ERRLOWOUTPUT | ... | ERRLOWOUTPUT(TRUE) |\n",
      "+--------------+-----+--------------------+\n",
      "| HR           | ... | HR(NORMAL)         |\n",
      "+--------------+-----+--------------------+\n",
      "| HRBP(HIGH)   | ... | 0.2                |\n",
      "+--------------+-----+--------------------+\n",
      "| HRBP(LOW)    | ... | 0.3                |\n",
      "+--------------+-----+--------------------+\n",
      "| HRBP(NORMAL) | ... | 0.5                |\n",
      "+--------------+-----+--------------------+\n",
      "Conditional Probability Distribution for LVFAILURE:\n",
      "+------------------+-------+\n",
      "| LVFAILURE(FALSE) | 0.956 |\n",
      "+------------------+-------+\n",
      "| LVFAILURE(TRUE)  | 0.044 |\n",
      "+------------------+-------+\n",
      "Conditional Probability Distribution for EXPCO2:\n",
      "+----------------+----------------+-----+----------------+\n",
      "| ARTCO2         | ARTCO2(HIGH)   | ... | ARTCO2(NORMAL) |\n",
      "+----------------+----------------+-----+----------------+\n",
      "| VENTLUNG       | VENTLUNG(HIGH) | ... | VENTLUNG(ZERO) |\n",
      "+----------------+----------------+-----+----------------+\n",
      "| EXPCO2(HIGH)   | 1.0            | ... | 0.0            |\n",
      "+----------------+----------------+-----+----------------+\n",
      "| EXPCO2(LOW)    | 0.0            | ... | 1.0            |\n",
      "+----------------+----------------+-----+----------------+\n",
      "| EXPCO2(NORMAL) | 0.0            | ... | 0.0            |\n",
      "+----------------+----------------+-----+----------------+\n",
      "| EXPCO2(ZERO)   | 0.0            | ... | 0.0            |\n",
      "+----------------+----------------+-----+----------------+\n",
      "Conditional Probability Distribution for SAO2:\n",
      "+--------------+--------------------+-----+----------------------+\n",
      "| PVSAT        | PVSAT(HIGH)        | ... | PVSAT(NORMAL)        |\n",
      "+--------------+--------------------+-----+----------------------+\n",
      "| SHUNT        | SHUNT(HIGH)        | ... | SHUNT(NORMAL)        |\n",
      "+--------------+--------------------+-----+----------------------+\n",
      "| SAO2(HIGH)   | 0.0                | ... | 0.0                  |\n",
      "+--------------+--------------------+-----+----------------------+\n",
      "| SAO2(LOW)    | 0.6923076923076923 | ... | 0.038461538461538464 |\n",
      "+--------------+--------------------+-----+----------------------+\n",
      "| SAO2(NORMAL) | 0.3076923076923077 | ... | 0.9615384615384616   |\n",
      "+--------------+--------------------+-----+----------------------+\n",
      "Conditional Probability Distribution for MINVOL:\n",
      "+----------------+-----+----------------------+\n",
      "| INTUBATION     | ... | INTUBATION(ONESIDED) |\n",
      "+----------------+-----+----------------------+\n",
      "| VENTLUNG       | ... | VENTLUNG(ZERO)       |\n",
      "+----------------+-----+----------------------+\n",
      "| MINVOL(HIGH)   | ... | 0.0                  |\n",
      "+----------------+-----+----------------------+\n",
      "| MINVOL(LOW)    | ... | 0.0                  |\n",
      "+----------------+-----+----------------------+\n",
      "| MINVOL(NORMAL) | ... | 1.0                  |\n",
      "+----------------+-----+----------------------+\n",
      "| MINVOL(ZERO)   | ... | 0.0                  |\n",
      "+----------------+-----+----------------------+\n",
      "Conditional Probability Distribution for HR:\n",
      "+------------+----------------------+---------------------+\n",
      "| CATECHOL   | CATECHOL(HIGH)       | CATECHOL(NORMAL)    |\n",
      "+------------+----------------------+---------------------+\n",
      "| HR(HIGH)   | 0.915273132664437    | 0.04854368932038835 |\n",
      "+------------+----------------------+---------------------+\n",
      "| HR(LOW)    | 0.008918617614269788 | 0.02912621359223301 |\n",
      "+------------+----------------------+---------------------+\n",
      "| HR(NORMAL) | 0.0758082497212932   | 0.9223300970873787  |\n",
      "+------------+----------------------+---------------------+\n",
      "Conditional Probability Distribution for HREKG:\n",
      "+---------------+-----+---------------------+\n",
      "| ERRCAUTER     | ... | ERRCAUTER(TRUE)     |\n",
      "+---------------+-----+---------------------+\n",
      "| HR            | ... | HR(NORMAL)          |\n",
      "+---------------+-----+---------------------+\n",
      "| HREKG(HIGH)   | ... | 0.30434782608695654 |\n",
      "+---------------+-----+---------------------+\n",
      "| HREKG(LOW)    | ... | 0.30434782608695654 |\n",
      "+---------------+-----+---------------------+\n",
      "| HREKG(NORMAL) | ... | 0.391304347826087   |\n",
      "+---------------+-----+---------------------+\n",
      "Conditional Probability Distribution for PVSAT:\n",
      "+---------------+---------------+-----+-----------------------+\n",
      "| FIO2          | FIO2(LOW)     | ... | FIO2(NORMAL)          |\n",
      "+---------------+---------------+-----+-----------------------+\n",
      "| VENTALV       | VENTALV(HIGH) | ... | VENTALV(ZERO)         |\n",
      "+---------------+---------------+-----+-----------------------+\n",
      "| PVSAT(HIGH)   | 0.0           | ... | 0.0                   |\n",
      "+---------------+---------------+-----+-----------------------+\n",
      "| PVSAT(LOW)    | 0.0           | ... | 0.9938931297709923    |\n",
      "+---------------+---------------+-----+-----------------------+\n",
      "| PVSAT(NORMAL) | 1.0           | ... | 0.0061068702290076335 |\n",
      "+---------------+---------------+-----+-----------------------+\n",
      "Conditional Probability Distribution for DISCONNECT:\n",
      "+-------------------+-------+\n",
      "| DISCONNECT(FALSE) | 0.887 |\n",
      "+-------------------+-------+\n",
      "| DISCONNECT(TRUE)  | 0.113 |\n",
      "+-------------------+-------+\n",
      "Conditional Probability Distribution for PAP:\n",
      "+-------------+----------------------+-------------------+\n",
      "| PULMEMBOLUS | PULMEMBOLUS(FALSE)   | PULMEMBOLUS(TRUE) |\n",
      "+-------------+----------------------+-------------------+\n",
      "| PAP(HIGH)   | 0.049494949494949494 | 0.9               |\n",
      "+-------------+----------------------+-------------------+\n",
      "| PAP(LOW)    | 0.043434343434343436 | 0.0               |\n",
      "+-------------+----------------------+-------------------+\n",
      "| PAP(NORMAL) | 0.907070707070707    | 0.1               |\n",
      "+-------------+----------------------+-------------------+\n",
      "Conditional Probability Distribution for HRSAT:\n",
      "+---------------+-----+---------------------+\n",
      "| ERRCAUTER     | ... | ERRCAUTER(TRUE)     |\n",
      "+---------------+-----+---------------------+\n",
      "| HR            | ... | HR(NORMAL)          |\n",
      "+---------------+-----+---------------------+\n",
      "| HRSAT(HIGH)   | ... | 0.391304347826087   |\n",
      "+---------------+-----+---------------------+\n",
      "| HRSAT(LOW)    | ... | 0.2608695652173913  |\n",
      "+---------------+-----+---------------------+\n",
      "| HRSAT(NORMAL) | ... | 0.34782608695652173 |\n",
      "+---------------+-----+---------------------+\n",
      "Conditional Probability Distribution for CVP:\n",
      "+------------+--------------------+---------------------+----------------------+\n",
      "| LVEDVOLUME | LVEDVOLUME(HIGH)   | LVEDVOLUME(LOW)     | LVEDVOLUME(NORMAL)   |\n",
      "+------------+--------------------+---------------------+----------------------+\n",
      "| CVP(0)     | 0.4560138443645107 | 0.07760267954221013 | 0.009291869780001422 |\n",
      "+------------+--------------------+---------------------+----------------------+\n",
      "| CVP(1)     | 0.5439861556354892 | 0.9223973204577899  | 0.9907081302199985   |\n",
      "+------------+--------------------+---------------------+----------------------+\n",
      "Conditional Probability Distribution for HISTORY:\n",
      "+------------+---------------------+---------------------+\n",
      "| LVFAILURE  | LVFAILURE(FALSE)    | LVFAILURE(TRUE)     |\n",
      "+------------+---------------------+---------------------+\n",
      "| HISTORY(0) | 0.8227363073963534  | 0.8086545683219722  |\n",
      "+------------+---------------------+---------------------+\n",
      "| HISTORY(1) | 0.17726369260364658 | 0.19134543167802773 |\n",
      "+------------+---------------------+---------------------+\n"
     ]
    }
   ],
   "source": [
    "from pgmpy.estimators import ExpectationMaximization as EM\n",
    "em_est = EM(model=model_latent, data=samples_latent)\n",
    "# Generate HTML table for each CPD\n",
    "#em_est.get_parameters()\n",
    "# Initialize the EM estimator\n",
    "em_est = EM(model=model_latent, data=samples_latent)\n",
    "\n",
    "# Iterate through CPDs generated by the model\n",
    "for cpd in em_est.get_parameters():\n",
    "    print(f\"Conditional Probability Distribution for {cpd.variable}:\")\n",
    "    print(cpd)"
   ]
  },
  {
   "cell_type": "code",
   "execution_count": null,
   "metadata": {},
   "outputs": [],
   "source": []
  }
 ],
 "metadata": {
  "kernelspec": {
   "display_name": "Python 3 (ipykernel)",
   "language": "python",
   "name": "python3"
  },
  "language_info": {
   "codemirror_mode": {
    "name": "ipython",
    "version": 3
   },
   "file_extension": ".py",
   "mimetype": "text/x-python",
   "name": "python",
   "nbconvert_exporter": "python",
   "pygments_lexer": "ipython3",
   "version": "3.10.11"
  }
 },
 "nbformat": 4,
 "nbformat_minor": 4
}
